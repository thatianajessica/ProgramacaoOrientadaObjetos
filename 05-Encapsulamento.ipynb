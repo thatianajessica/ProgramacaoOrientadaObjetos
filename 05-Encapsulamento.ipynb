{
 "cells": [
  {
   "cell_type": "markdown",
   "metadata": {},
   "source": [
    "# Encapsulamento em Python\n",
    "\n",
    "Continuando com o exemplo do Estacionamento, podemos definir a ```Estacionamento``` classe como a seguir:"
   ]
  },
  {
   "cell_type": "code",
   "execution_count": 2,
   "metadata": {},
   "outputs": [],
   "source": [
    "class Estacionamento:\n",
    "    '''Estacionamento controlando o número de vagas'''\n",
    "    \n",
    "    #Note que capacidade é um parâmetro default (não precisamos fornecer um valor para criar uma instância)\n",
    "    def __init__(self, capacidade=50):\n",
    "        '''Inicializa a capacidade e o número de vagas = capacidade'''\n",
    "        self.capacidade = capacidade\n",
    "        self.vagas = capacidade\n",
    "        \n",
    "    def entrar(self):\n",
    "        '''Entra um carro'''\n",
    "        if self.vagas > 0:\n",
    "            self.vagas -= 1\n",
    "            print(\"Um carro entrou.\")\n",
    "        else:\n",
    "            print(\"Estacionamento sem vagas\")\n",
    "            \n",
    "    def sair(self):\n",
    "        '''saída de um carro'''\n",
    "        if self.vagas < self.capacidade:\n",
    "            self.vagas += 1\n",
    "            print(\"Um carro saiu\")\n",
    "        else:\n",
    "            print(\"Estacionamento vacío\")\n",
    "            \n",
    "    def comVagas(self):\n",
    "        '''Retorna  vagas > 0'''\n",
    "        return self.vagas > 0\n",
    "    \n",
    "    def lotado(self):\n",
    "        '''retorna vagas == 0'''\n",
    "        return self.vagas == 0\n",
    "    \n",
    "    def vazio(self):\n",
    "        '''retorna vagas == capacidade'''\n",
    "        return self.vagas == self.capacidade\n",
    "            \n",
    "    def __str__(self):\n",
    "        return '{0} / {1} vagas disponíveis.'.format(self.vagas, self.capacidade)"
   ]
  },
  {
   "cell_type": "markdown",
   "metadata": {},
   "source": [
    " * Podemos criar um estacionamento com o sem capacidade (valor default =  50).\n",
    " * Podemos acessar diretamente os atributos vagas e capacidade"
   ]
  },
  {
   "cell_type": "code",
   "execution_count": 3,
   "metadata": {},
   "outputs": [
    {
     "name": "stdout",
     "output_type": "stream",
     "text": [
      "50 / 50 vagas disponíveis.\n"
     ]
    }
   ],
   "source": [
    "est = Estacionamento()\n",
    "print (est)"
   ]
  },
  {
   "cell_type": "code",
   "execution_count": 4,
   "metadata": {},
   "outputs": [
    {
     "name": "stdout",
     "output_type": "stream",
     "text": [
      "True\n",
      "Estacionamento vacío\n",
      "Um carro entrou.\n",
      "Um carro entrou.\n",
      "Um carro entrou.\n",
      "Um carro entrou.\n",
      "Um carro entrou.\n",
      "0 / 5 vagas disponíveis.\n",
      "Um carro saiu\n",
      "1 / 5 vagas disponíveis.\n"
     ]
    }
   ],
   "source": [
    "est = Estacionamento(5)\n",
    "print(est.vazio())\n",
    "est.sair() #impossível  \n",
    "est.entrar()\n",
    "est.entrar()\n",
    "est.entrar()\n",
    "est.entrar()\n",
    "est.entrar()\n",
    "print(est)\n",
    "est.sair()\n",
    "print(est)"
   ]
  },
  {
   "cell_type": "code",
   "execution_count": 5,
   "metadata": {},
   "outputs": [
    {
     "name": "stdout",
     "output_type": "stream",
     "text": [
      "101 / 5 vagas disponíveis.\n"
     ]
    }
   ],
   "source": [
    "# Isto não deveria ser possível, mas acontece pq em python por default os atributos sao sempre publicos, tem q forcar ele a ser privado\n",
    "est.vagas += 100\n",
    "print(est)"
   ]
  },
  {
   "cell_type": "markdown",
   "metadata": {},
   "source": [
    "Em Python:\n",
    " * **Público**: Todo membro/método é público por padrão\n",
    " * **Privado**:  O membro/método se torna privado ao ser declarado com dois underscores ```\"_\"``` na frente do seu nome.\n",
    " \n",
    "Considere uma segunda versão da classe Estacionamento que declara como privados os dois atributos (capacidade e vagas)"
   ]
  },
  {
   "cell_type": "code",
   "execution_count": 6,
   "metadata": {},
   "outputs": [],
   "source": [
    "class Estacionamento:\n",
    "    '''Estacionamento controlando o número de vagas'''\n",
    "    \n",
    "    #Note que capacidade é um parâmetro default (não precisamos fornecer um valor para criar uma instância)\n",
    "    def __init__(self, capacidade=50):\n",
    "        '''Inicializa a capacidade e o número de vagas = capacidade'''\n",
    "        \n",
    "        #Note o uso de __ no identificador do atributo - agora o atributo é privado\n",
    "        self.__capacidade = capacidade\n",
    "        self.__vagas = capacidade\n",
    "        \n",
    "    def entrar(self):\n",
    "        '''Entra um carro'''\n",
    "        if self.__vagas > 0:\n",
    "            self.__vagas -= 1\n",
    "            print(\"Um carro entrou.\")\n",
    "        else:\n",
    "            print(\"Estacionamento sem vagas\")\n",
    "            \n",
    "    def sair(self):\n",
    "        '''saída de um carro'''\n",
    "        if self.__vagas < self.__capacidade:\n",
    "            self.__vagas += 1\n",
    "            print(\"Um carro saiu\")\n",
    "        else:\n",
    "            print(\"Estacionamento vacío\")\n",
    "            \n",
    "    def comVagas(self):\n",
    "        '''Retorna  vagas > 0'''\n",
    "        return self.__vagas > 0\n",
    "    \n",
    "    def lotado(self):\n",
    "        '''retorna vagas == 0'''\n",
    "        return self.__vagas == 0\n",
    "    \n",
    "    def vazio(self):\n",
    "        '''retorna vagas == capacidade'''\n",
    "        return self.__vagas == self.__capacidade\n",
    "            \n",
    "    def __str__(self):\n",
    "        return '{0} / {1} vagas disponíveis.'.format(self.__vagas, self.__capacidade)"
   ]
  },
  {
   "cell_type": "markdown",
   "metadata": {},
   "source": [
    "Agora os usuários da classe não podem acessar diretamente os atributos \"privados\" da classe."
   ]
  },
  {
   "cell_type": "code",
   "execution_count": 7,
   "metadata": {},
   "outputs": [
    {
     "name": "stdout",
     "output_type": "stream",
     "text": [
      "50 / 50 vagas disponíveis.\n",
      "True\n",
      "Um carro entrou.\n",
      "Um carro entrou.\n",
      "48 / 50 vagas disponíveis.\n"
     ]
    }
   ],
   "source": [
    "e = Estacionamento()\n",
    "print(e)\n",
    "print(e.vazio())\n",
    "e.entrar()\n",
    "e.entrar()\n",
    "print(e)"
   ]
  },
  {
   "cell_type": "code",
   "execution_count": 8,
   "metadata": {},
   "outputs": [
    {
     "ename": "AttributeError",
     "evalue": "'Estacionamento' object has no attribute '__vagas'",
     "output_type": "error",
     "traceback": [
      "\u001b[0;31m---------------------------------------------------------------------------\u001b[0m",
      "\u001b[0;31mAttributeError\u001b[0m                            Traceback (most recent call last)",
      "\u001b[0;32m<ipython-input-8-83a6a4e34bfb>\u001b[0m in \u001b[0;36m<module>\u001b[0;34m\u001b[0m\n\u001b[1;32m      1\u001b[0m \u001b[0;31m#Erro de compilação\u001b[0m\u001b[0;34m\u001b[0m\u001b[0;34m\u001b[0m\u001b[0;34m\u001b[0m\u001b[0m\n\u001b[0;32m----> 2\u001b[0;31m \u001b[0mprint\u001b[0m\u001b[0;34m(\u001b[0m\u001b[0me\u001b[0m\u001b[0;34m.\u001b[0m\u001b[0m__vagas\u001b[0m\u001b[0;34m)\u001b[0m\u001b[0;34m\u001b[0m\u001b[0;34m\u001b[0m\u001b[0m\n\u001b[0m",
      "\u001b[0;31mAttributeError\u001b[0m: 'Estacionamento' object has no attribute '__vagas'"
     ]
    }
   ],
   "source": [
    "#Erro de compilação  - porque o atributo agora é privado\n",
    "print(e.__vagas)"
   ]
  },
  {
   "cell_type": "markdown",
   "metadata": {},
   "source": [
    "Porém, em Pythom, sempre é possível acessar os atributos (privados ou não) da classe. "
   ]
  },
  {
   "cell_type": "code",
   "execution_count": 9,
   "metadata": {},
   "outputs": [
    {
     "data": {
      "text/plain": [
       "48"
      ]
     },
     "execution_count": 9,
     "metadata": {},
     "output_type": "execute_result"
    }
   ],
   "source": [
    "# Mangling / atributos dunder\n",
    "e._Estacionamento__vagas"
   ]
  },
  {
   "cell_type": "markdown",
   "metadata": {},
   "source": [
    "* <span style=\"color:blue\">**Nenhum bom programador de Python ousaria acessar/modificar um atributo privado!**</span>\n",
    "* Python segue uma filosofia que resumidamente diz que **\"programadores são adultos e sabem o que fazem\"**\n",
    "* Na classe Estacionamento, os métodos ```entrar``` e ```sair``` devem ser utilizados para alterar o valor de ```__vagas```\n"
   ]
  },
  {
   "cell_type": "markdown",
   "metadata": {},
   "source": [
    "--- \n",
    "## Getters / Setters\n",
    "\n",
    "Os atributos privados de uma classe normalmente podem ser acessados utilizando métodos ```get``` (para retornar o valor) e ```set``` (para alterar o valor). \n",
    "\n",
    "Considere a classe ContaBancaria:\n"
   ]
  },
  {
   "cell_type": "code",
   "execution_count": 11,
   "metadata": {},
   "outputs": [],
   "source": [
    "class ContaBancaria:\n",
    "    '''\n",
    "    Uma conta bancária com saldo e titular.\n",
    "    Set/get definidos para o titular\n",
    "    Get definido para o saldo\n",
    "    '''\n",
    "    \n",
    "    def __init__(self, titular):\n",
    "        '''Saldo e titular (os dois privados)'''\n",
    "        self.__titular = titular\n",
    "        self.__saldo = 0\n",
    "        \n",
    "    def __str__(self):\n",
    "        return '{0}: ${1}.'.format(self.__titular , self.__saldo)\n",
    "    \n",
    "    def get_saldo(self):\n",
    "        '''retorna o saldo'''\n",
    "        return self.__saldo\n",
    "    \n",
    "    def get_titular(self):\n",
    "        '''retorna o titular'''\n",
    "        return self.__titular\n",
    "    \n",
    "    def set_titular(self, novo_titular):\n",
    "        '''Muda o titular da conta'''\n",
    "        self.__titular = novo_titular\n",
    "        \n",
    "    def depositar(self, valor):\n",
    "        '''Depositar valor'''\n",
    "        self.__saldo += valor"
   ]
  },
  {
   "cell_type": "markdown",
   "metadata": {},
   "source": [
    "Podemos utilizar os métodos ```set``` e ```get``` da classe para acessar, de maneira controlada, os atributos da classe"
   ]
  },
  {
   "cell_type": "code",
   "execution_count": 12,
   "metadata": {},
   "outputs": [
    {
     "name": "stdout",
     "output_type": "stream",
     "text": [
      "carlos: $1000.\n",
      "1000\n",
      "olarte: $1000.\n",
      "olarte\n"
     ]
    }
   ],
   "source": [
    "c = ContaBancaria(\"carlos\")\n",
    "c.depositar(1000)\n",
    "print(c)\n",
    "print(c.get_saldo())\n",
    "c.set_titular(\"olarte\")\n",
    "print(c)\n",
    "print(c.get_titular())"
   ]
  },
  {
   "cell_type": "markdown",
   "metadata": {},
   "source": [
    "Setters/Getters em Python:\n",
    " * Os métodos ```set``` podem ser muito úteis para validar os novos valores dos atributos. Por exemplo, poderíamos exigir que o novo titular (um objeto do tipo Pessoa e não simplesmente uma string) deve possuir um  CPF. \n",
    " * Esta convenção de getters/setters é fortemente utilizada em Java\n",
    " * Em Python, ela deve ser utilizada quando necessária. Motivos:\n",
    "   * Mais código, por exemplo, ```print(c.x)``` vs ```print(c.get_x())```  (lembre... o Zen de Python... *Beautiful is better than ugly*).\n",
    "   * É possível burlar o acesso privado à classe, tornando estes métodos inúteis\n",
    "\n",
    "## Properties\n",
    "Existe uma forma mais elegante, eficiente e automática de se utilizar getters/setters em Python: uso da função ```property```\n"
   ]
  },
  {
   "cell_type": "code",
   "execution_count": 13,
   "metadata": {},
   "outputs": [],
   "source": [
    "class ContaBancaria:\n",
    "    \n",
    "    def __init__(self, titular):\n",
    "        self.__titular = titular\n",
    "        self.__saldo = 0\n",
    "        \n",
    "    def __str__(self):\n",
    "        return '{0}: ${1}.'.format(self.__titular , self.__saldo)\n",
    "    \n",
    "    \n",
    "    def get_saldo(self):\n",
    "        '''retorna o saldo'''\n",
    "        print('Método get_saldo ')\n",
    "        return self.__saldo\n",
    "    \n",
    "    def get_titular(self):\n",
    "        '''retorna o titular'''\n",
    "        print('Método get_titular')\n",
    "        return self.__titular\n",
    "    \n",
    "    def set_titular(self, novo_titular):\n",
    "        '''Muda o titular da conta'''\n",
    "        print('Método set_titular')\n",
    "        self.__titular = novo_titular\n",
    "        \n",
    "    def depositar(self, valor):\n",
    "        '''Depositar valor'''\n",
    "        self.__saldo += valor\n",
    "        \n",
    "    titular = property(get_titular, set_titular)\n",
    "    saldo = property(get_saldo)"
   ]
  },
  {
   "cell_type": "code",
   "execution_count": 16,
   "metadata": {},
   "outputs": [
    {
     "name": "stdout",
     "output_type": "stream",
     "text": [
      "Método get_saldo \n",
      "2000\n",
      "Método get_titular\n",
      "carlos\n",
      "Método set_titular\n",
      "olarte: $2000.\n"
     ]
    }
   ],
   "source": [
    "c1 = ContaBancaria(\"carlos\")\n",
    "c1.depositar(2000)\n",
    "print(c1.saldo)\n",
    "print(c1.titular)\n",
    "c1.titular = \"olarte\"\n",
    "#c1.saldo = 4 # Erro! pq saldo só tem get, nao tem set\n",
    "print(c1)\n"
   ]
  },
  {
   "cell_type": "markdown",
   "metadata": {},
   "source": [
    "## Decoradores\n",
    "\n",
    "Uma alternativa ainda mais interessante é definir setters e getters utilizando **decoradores**."
   ]
  },
  {
   "cell_type": "code",
   "execution_count": 17,
   "metadata": {},
   "outputs": [],
   "source": [
    "class ContaBancaria:\n",
    "    \n",
    "    def __init__(self, titular):\n",
    "        self.__titular = titular\n",
    "        self.__saldo = 0\n",
    "        \n",
    "    def __str__(self):\n",
    "        return '{0}: ${1}.'.format(self.__titular , self.__saldo)\n",
    "    \n",
    "    @property ## seria o metodo get\n",
    "    def saldo(self):\n",
    "        '''retorna o saldo'''\n",
    "        print('Método get_saldo ')\n",
    "        return self.__saldo\n",
    "    @property## seria o metodo get\n",
    "    def titular(self):\n",
    "        '''retorna o titular'''\n",
    "        print('Método get_titular')\n",
    "        return self.__titular\n",
    "    \n",
    "    @titular.setter ##seria o metodo set\n",
    "    def titular(self, novo_titular):\n",
    "        '''Muda o titular da conta'''\n",
    "        print('Método set_titular')\n",
    "        self.__titular = novo_titular\n",
    "        \n",
    "    def depositar(self, valor):\n",
    "        '''Depositar valor'''\n",
    "        self.__saldo += valor"
   ]
  },
  {
   "cell_type": "code",
   "execution_count": 20,
   "metadata": {},
   "outputs": [
    {
     "name": "stdout",
     "output_type": "stream",
     "text": [
      "Método get_saldo \n",
      "2000\n",
      "Método get_titular\n",
      "carlos\n",
      "Método set_titular\n",
      "olarte: $2000.\n"
     ]
    }
   ],
   "source": [
    "c1 = ContaBancaria(\"carlos\")\n",
    "c1.depositar(2000)\n",
    "print(c1.saldo)\n",
    "print(c1.titular)\n",
    "c1.titular = \"olarte\"\n",
    "#c1.saldo = 4  Erro!\n",
    "print(c1)"
   ]
  },
  {
   "cell_type": "markdown",
   "metadata": {},
   "source": [
    "## Exercício 1\n",
    "\n",
    "Uma máquina de café aceita moedas de 5 e 10 centavos. Um café custa X reais. Implemente uma classe que simule a operação da máquina de café. A classe deve oferecer métodos para saber se o café está disponível e se houver troco. Por exemplo, se $X=50$ centavos, a máquina funcionaria como a seguir: \n",
    "\n",
    "```\n",
    "10 c. (faltam 40 c)\n",
    "10 c. (faltam 30 c)\n",
    "5 c. (faltam 25 c)\n",
    "10 c. (faltam 15 c)\n",
    "5 c. (faltam 10 c)\n",
    "5 c. (faltam 5 c)\n",
    "10 c. Troco: 5 c. \n",
    "Café disponível!!\n",
    "```"
   ]
  },
  {
   "cell_type": "code",
   "execution_count": null,
   "metadata": {},
   "outputs": [],
   "source": [
    "class Estacionamento:\n",
    "    '''Estacionamento controlando o número de vagas'''\n",
    "    \n",
    "    #Note que capacidade é um parâmetro default (não precisamos fornecer um valor para criar uma instância)\n",
    "    def __init__(self, capacidade=50):\n",
    "        '''Inicializa a capacidade e o número de vagas = capacidade'''\n",
    "        \n",
    "        #Note o uso de __ no identificador do atributo - agora o atributo é privado\n",
    "        self.__capacidade = capacidade\n",
    "        self.__vagas = capacidade\n",
    "        \n",
    "    def entrar(self):\n",
    "        '''Entra um carro'''\n",
    "        if self.__vagas > 0:\n",
    "            self.__vagas -= 1\n",
    "            print(\"Um carro entrou.\")\n",
    "        else:\n",
    "            print(\"Estacionamento sem vagas\")\n",
    "            \n",
    "    def sair(self):\n",
    "        '''saída de um carro'''\n",
    "        if self.__vagas < self.__capacidade:\n",
    "            self.__vagas += 1\n",
    "            print(\"Um carro saiu\")\n",
    "        else:\n",
    "            print(\"Estacionamento vacío\")\n",
    "            \n",
    "    def comVagas(self):\n",
    "        '''Retorna  vagas > 0'''\n",
    "        return self.__vagas > 0\n",
    "    \n",
    "    def lotado(self):\n",
    "        '''retorna vagas == 0'''\n",
    "        return self.__vagas == 0\n",
    "    \n",
    "    def vazio(self):\n",
    "        '''retorna vagas == capacidade'''\n",
    "        return self.__vagas == self.__capacidade\n",
    "            \n",
    "    def __str__(self):\n",
    "        return '{0} / {1} vagas disponíveis.'.format(self.__vagas, self.__capacidade)"
   ]
  },
  {
   "cell_type": "code",
   "execution_count": 40,
   "metadata": {},
   "outputs": [
    {
     "ename": "NameError",
     "evalue": "name 'alteraSaldo' is not defined",
     "output_type": "error",
     "traceback": [
      "\u001b[0;31m---------------------------------------------------------------------------\u001b[0m",
      "\u001b[0;31mNameError\u001b[0m                                 Traceback (most recent call last)",
      "\u001b[0;32m<ipython-input-40-b58c9aa92ef9>\u001b[0m in \u001b[0;36m<module>\u001b[0;34m\u001b[0m\n\u001b[0;32m----> 1\u001b[0;31m \u001b[0;32mclass\u001b[0m \u001b[0mCafe\u001b[0m\u001b[0;34m:\u001b[0m\u001b[0;34m\u001b[0m\u001b[0;34m\u001b[0m\u001b[0m\n\u001b[0m\u001b[1;32m      2\u001b[0m \u001b[0;34m\u001b[0m\u001b[0m\n\u001b[1;32m      3\u001b[0m     \u001b[0;32mdef\u001b[0m \u001b[0m__init\u001b[0m\u001b[0;34m(\u001b[0m\u001b[0mself\u001b[0m\u001b[0;34m,\u001b[0m \u001b[0mquantidade\u001b[0m\u001b[0;34m,\u001b[0m \u001b[0mpreco\u001b[0m\u001b[0;34m,\u001b[0m \u001b[0msaldo\u001b[0m\u001b[0;34m)\u001b[0m\u001b[0;34m:\u001b[0m\u001b[0;34m\u001b[0m\u001b[0;34m\u001b[0m\u001b[0m\n\u001b[1;32m      4\u001b[0m         \u001b[0mself\u001b[0m\u001b[0;34m.\u001b[0m\u001b[0m__quantidade\u001b[0m \u001b[0;34m=\u001b[0m \u001b[0mquantidade\u001b[0m\u001b[0;34m\u001b[0m\u001b[0;34m\u001b[0m\u001b[0m\n\u001b[1;32m      5\u001b[0m         \u001b[0mself\u001b[0m\u001b[0;34m.\u001b[0m\u001b[0m__preco\u001b[0m \u001b[0;34m=\u001b[0m \u001b[0mpreco\u001b[0m\u001b[0;34m\u001b[0m\u001b[0;34m\u001b[0m\u001b[0m\n",
      "\u001b[0;32m<ipython-input-40-b58c9aa92ef9>\u001b[0m in \u001b[0;36mCafe\u001b[0;34m()\u001b[0m\n\u001b[1;32m     26\u001b[0m \u001b[0;34m\u001b[0m\u001b[0m\n\u001b[1;32m     27\u001b[0m \u001b[0;34m\u001b[0m\u001b[0m\n\u001b[0;32m---> 28\u001b[0;31m     \u001b[0;34m@\u001b[0m\u001b[0malteraSaldo\u001b[0m\u001b[0;34m.\u001b[0m\u001b[0msetter\u001b[0m \u001b[0;31m##seria o metodo set\u001b[0m\u001b[0;34m\u001b[0m\u001b[0;34m\u001b[0m\u001b[0m\n\u001b[0m\u001b[1;32m     29\u001b[0m     \u001b[0;32mdef\u001b[0m \u001b[0malteraSaldo\u001b[0m\u001b[0;34m(\u001b[0m\u001b[0mself\u001b[0m\u001b[0;34m,\u001b[0m \u001b[0mnovo_saldo\u001b[0m\u001b[0;34m)\u001b[0m\u001b[0;34m:\u001b[0m\u001b[0;34m\u001b[0m\u001b[0;34m\u001b[0m\u001b[0m\n\u001b[1;32m     30\u001b[0m         \u001b[0;34m'''Altera o saldo disponivel na maquina'''\u001b[0m\u001b[0;34m\u001b[0m\u001b[0;34m\u001b[0m\u001b[0m\n",
      "\u001b[0;31mNameError\u001b[0m: name 'alteraSaldo' is not defined"
     ]
    }
   ],
   "source": [
    "class Cafe:\n",
    "    \n",
    "    def __init(self, quantidade, preco, saldo):\n",
    "        self.__quantidade = quantidade \n",
    "        self.__preco = preco\n",
    "        self.__saldo = saldo\n",
    "    \n",
    "    @property\n",
    "    def quantidade_disponivel(self):\n",
    "        return self.__quantidade;\n",
    "    \n",
    "    @property\n",
    "    def saldo_disponivel(self):\n",
    "        return self.__saldo;\n",
    "    \n",
    "    @property\n",
    "    def preco_cafe(self):\n",
    "        return self.__preco;\n",
    "    \n",
    "    \n",
    "    def temCafe(self):\n",
    "        if (quantidade_disponivel > 0):\n",
    "            return 'Tem cafe disponivel.';\n",
    "        else:\n",
    "            return 'Nao tem cafe disponivel.';\n",
    "        \n",
    "        \n",
    "    @alteraSaldo.setter ##seria o metodo set\n",
    "    def alteraSaldo(self, novo_saldo):\n",
    "        '''Altera o saldo disponivel na maquina'''\n",
    "        print('Método alteraSaldo')\n",
    "        self.__saldo = novo_saldo\n",
    "        \n",
    "        \n",
    "    def colocarMoeda(self, valor):\n",
    "        if(valor > self.__preco):\n",
    "            if(valor != 5 and valor != 10):\n",
    "                print('Moeda invalida')\n",
    "        else:\n",
    "            self.__saldo += valor\n",
    "        else:\n",
    "        \n",
    "            \n",
    "    def troco(self, valor):\n",
    "        saldo_corrente = saldo_disponivel()\n",
    "        troco = saldo_corrente - valor\n",
    "        return troco\n",
    "    \n",
    "    def comprarCafe(self, valor):\n",
    "        valor_corrente = colocarMoeda(valor)\n",
    "        preco_cafe = preco_cafe\n",
    "        saldo_corrente = saldo_disponivel()\n",
    "        if(saldo_corrente >= preco_cafe):\n",
    "            print('Cafe disponivel para retirada')\n",
    "            troco_corrente = troco(valor)\n",
    "            print('Tome seu troco: {0}'.format(troco_corrente))\n",
    "            alteraSaldo = 0\n",
    "            alteraQuantidade -= 1   \n",
    "        else:\n",
    "            valor_corrente = colocarMoeda(valor)\n",
    "            \n",
    "    def __str__(self):\n",
    "        return 'Quantidade de cafe na maquina = {0}. Valor do cafe = {1}. Saldo da mquina = {2}'.format(self.__quantidade, self.__preco, self.__saldo)\n",
    "\n",
    "c1 = Cafe(10, 2, 0)\n",
    "print(c1)\n",
    "\n",
    "            \n",
    "\n",
    "            \n",
    "        \n",
    "            \n",
    "            \n",
    "            \n",
    "        \n",
    "    \n",
    "    "
   ]
  }
 ],
 "metadata": {
  "kernelspec": {
   "display_name": "Python 3",
   "language": "python",
   "name": "python3"
  },
  "language_info": {
   "codemirror_mode": {
    "name": "ipython",
    "version": 3
   },
   "file_extension": ".py",
   "mimetype": "text/x-python",
   "name": "python",
   "nbconvert_exporter": "python",
   "pygments_lexer": "ipython3",
   "version": "3.7.4"
  }
 },
 "nbformat": 4,
 "nbformat_minor": 4
}
