{
 "cells": [
  {
   "cell_type": "markdown",
   "metadata": {},
   "source": [
    "# Sockets\n",
    "\n",
    "## Objetivos\n",
    " - Apresentar os conceitos básicos de programação para redes usando sockets.\n",
    " - Utilizar a biblioteca ```socket``` de Python para comunicar 2 (o mais) aplicações.\n",
    " - Utilizar ```Threads``` para criar um servidor concorrente. \n",
    " \n",
    "\n",
    "## O protocolo TCP/IP\n",
    "\"*O TCP (acrônimo para o inglês Transmission Control Protocol, que significa \"Protocolo de Controle de Transmissão\") é um dos protocolos sob os quais assenta a Internet. Ele é complementado pelo Protocolo da Internet, sendo normalmente chamado de TCP/IP. A versatilidade e robustez do TCP tornou-o adequado a redes globais, já que este verifica se os dados são enviados de forma correta, na sequência apropriada e sem erros, pela rede.* \n",
    "\n",
    "*O TCP é um protocolo de nível da camada de transporte (camada 4) do Modelo OSI e é sobre o qual que se assentam a maioria das aplicações cibernéticas, como o SSH, FTP, HTTP — portanto, a World Wide Web. O Protocolo de controle de transmissão provê confiabilidade, entrega na sequência correta e verificação de erros dos pacotes de dados, entre os diferentes nós da rede, para a camada de aplicação.*\" ([Wikipedia](https://pt.wikipedia.org/wiki/Transmission_Control_Protocol))"
   ]
  },
  {
   "cell_type": "markdown",
   "metadata": {},
   "source": [
    "### Portas\n",
    "- O endereço **IP** é utilizado para identificar uma máquina. \n",
    "- A **porta** (número entre 0 e 65535) identifica um serviço (aplicação) em uma máquina. Por exemplo:\n",
    "  - Porta 80: Padrão para HTTP\n",
    "  - Porta 20/21: FTP\n",
    "  - Porta 22: SSH\n",
    "  \n",
    "## Sockets em Python\n",
    "Vamos implementar um sistema simples que comunica um cliente e um servidor. Em cada passo, acrescentaremos mais funcionalidades ao sistema. \n",
    "\n",
    "### Versão 1.0\n",
    "Nesta versão conectaremos o cliente e o servidor e o servidor simplesmente imprimirá uma mensagem na tela. \n",
    "\n",
    "Podemos descrever as interação entre os dois programas assim:\n",
    "\n",
    "![Versão 1.0](img/app1.png)\n",
    "\n"
   ]
  },
  {
   "cell_type": "markdown",
   "metadata": {},
   "source": [
    "> ** Sockets**: Permitem acessar aos serviços de red.  Oferecem intercomunicação bidirecional entre processos.  \n"
   ]
  },
  {
   "cell_type": "markdown",
   "metadata": {},
   "source": [
    "Do lado do **servidor**\n",
    " - Abrir uma porta (método ```bind```)\n",
    " - Esperar as conexões dos clientes (método ```listen```).\n",
    " - Aceitar coneções (método ``` accept```).\n",
    " - Enviar e receber dados \n",
    " - Fechar a conexão / socket\n",
    "\n",
    "Do lado do **cliente**\n",
    " - Criar um socket (especificando o endereço IP e a porta do servidor)\n",
    " - Conecta-se ao servidor (método ```connect```)\n",
    " - Enviar e receber dados \n",
    " - Fechar a conexão / socket\n"
   ]
  },
  {
   "cell_type": "markdown",
   "metadata": {},
   "source": [
    "#### Servidor\n",
    "\n",
    "Utilizaremos como endereço IP ```127.0.0.1``` (ou ```localhost```) que é o endereço da própria máquina. Para a porta, escolha um número entre 1024 - 65535. \n",
    "\n",
    "> **Nota**: No laboratório, todos os computadores são estações remotas de um servidor. \n",
    ">  Uma porta não pode ser utiliza por dois serviços ao mesmo tempo. Portanto, cada aluno deve utilizar um número de porta diferente. \n",
    "\n",
    "O servidor, por enquanto:\n",
    " - inicializa o serviço\n",
    " - espera conexões\n",
    " - Quando um cliente se conectar, imprime uma mensagem e termina a execução \n",
    " \n",
    "\n",
    "ver código e comentários no arquivo  v1/server.py\n",
    "\n",
    "#### Cliente\n",
    "\n",
    "O cliente deve utilizar um socket para estabelecer uma conexão com o servidor. \n",
    "\n",
    "ver código e comentários no arquivo v1/cliente.py\n",
    "\n",
    "Execute o servidor. Note que o programa está esperando por uma conexão. Execute depois o cliente. Tente executar o cliente sem o servidor... o que acontece ? "
   ]
  },
  {
   "cell_type": "markdown",
   "metadata": {},
   "source": [
    "# Versão 2.0\n",
    "\n",
    "Agora o servidor envia uma mensagem para o cliente (utilizando um socket), o cliente lê a mensagem e envia outra mensagem para o servidor. Depois dessa comunicação, os dois programas são encerrados. \n",
    "\n",
    "Ver o código na pasta v2.\n",
    "\n",
    "Note que acabamos de definir um protocolo que deve ser respeitado pelo cliente e o servidor:\n",
    " - Primeiro, o servidor enviar uma mensagem (e o cliente deve esperar essa mensagem)\n",
    " - Segundo, o cliente envia uma mensagem (e o servidor deve esperar essa mensagem) \n",
    " - Terceiro, a comunicação termina"
   ]
  },
  {
   "cell_type": "markdown",
   "metadata": {},
   "source": [
    "### Versão 3.0 \n",
    "Nesta versão, enviaremos um objeto utilizando ```pickle``` (biblioteca utilizada na aula de arquivos). \n",
    "\n",
    "Ver o código na pasta v3. \n",
    "\n",
    "### Versão 4.0\n",
    "Nesta versão utilizamos  JSON para enviar/receber informações (ver pasta v4). \n",
    "\n",
    "O servidor pode fazer 3 coisas:\n",
    " - Adicionar: recebe um produto do cliente e armazena esse produto numa lista\n",
    " - Listar: Retorna a lista com todos os produtos armazenados\n",
    " - Terminar. \n",
    "\n",
    "O módulo ```produto.py``` implementa a classe Produto e as classes necessárias para converter os produtos em strings JSON (última aula). \n",
    "\n",
    "Note que o cliente e o servidor seguem um protocolo:\n",
    " - O Cliente envia uma das opções (adicionar, listar ou terminar)\n",
    " - O servidor executa uma das ações \n",
    " \n",
    "### Versão 5.0\n",
    "Note que o servidor só aceita uma conexão e termina depois de receber a string \"terminar\". \n",
    " - Seria interessante que vários clientes pudessem se conectar ao servidor. \n",
    " - Note que o servidor executa um loop infinito ```while True``` ou seja, em quanto a solicitação de um cliente está sendo processada, o servidor não pode receber mais clientes/solicitações. \n",
    " - Solução: Utilizar Threads. \n",
    " \n",
    "\n",
    "#### Threads (Uma rápida introdução )\n",
    "Threads permitem a execução de blocos/funções de forma concorrente. "
   ]
  },
  {
   "cell_type": "code",
   "execution_count": null,
   "metadata": {},
   "outputs": [],
   "source": [
    "import time\n",
    "\n",
    "class Tarefa:\n",
    "    _cont = 1\n",
    "    def __init__(self, t):\n",
    "        '''t é o tempo da tarefa'''\n",
    "        self._t = t\n",
    "        self._id = Tarefa._cont\n",
    "        Tarefa._cont +=1\n",
    "        \n",
    "    def run(self):\n",
    "        '''Executar a tarefa'''\n",
    "        print('inicio da tarefa {0}'.format(self._id))\n",
    "        time.sleep(self._t) #Dormir por _t segundos\n",
    "        print('fim da tarefa {0}'.format(self._id))\n",
    "        \n",
    "T1 = Tarefa(3)\n",
    "T2 = Tarefa(2)\n",
    "T3 = Tarefa(1)\n",
    "T4 = Tarefa(0.5)\n",
    "T1.run()\n",
    "T2.run()\n",
    "T3.run()\n",
    "T4.run()\n"
   ]
  },
  {
   "cell_type": "markdown",
   "metadata": {},
   "source": [
    "Note que a execução das tarefas é sequencial: A tarefa 2 inicia só depois do fim da tarefa 1. "
   ]
  },
  {
   "cell_type": "code",
   "execution_count": null,
   "metadata": {},
   "outputs": [],
   "source": [
    "import time\n",
    "from threading import Thread\n",
    "\n",
    "# Tarefa é uma subclasse de Thread\n",
    "# O método run deve ser implementado\n",
    "class Tarefa(Thread):\n",
    "    _cont = 1\n",
    "    def __init__(self, t):\n",
    "        '''t é o tempo da tarefa'''\n",
    "        Thread.__init__(self)\n",
    "        self._t = t\n",
    "        self._id = Tarefa._cont\n",
    "        Tarefa._cont +=1\n",
    "        \n",
    "    def run(self):\n",
    "        '''Executar a tarefa'''\n",
    "        print('inicio da tarefa {0}'.format(self._id))\n",
    "        time.sleep(self._t) #Dormir por _t segundos\n",
    "        print('fim da tarefa {0}'.format(self._id))\n",
    "        \n",
    "T1 = Tarefa(3)\n",
    "T2 = Tarefa(2)\n",
    "T3 = Tarefa(1)\n",
    "T4 = Tarefa(0.5)\n",
    "# Utilizamos o método start da classe Thread\n",
    "# Esse método chama o método run da classe\n",
    "T1.start()\n",
    "T2.start()\n",
    "T3.start()\n",
    "T4.start()\n"
   ]
  },
  {
   "cell_type": "markdown",
   "metadata": {},
   "source": [
    "Note que \n",
    " - as 4 tarefas são executadas de forma concorrente\n",
    " - a tarefa mais rápida (T4) termina primeiro a execução. \n",
    " \n",
    "Na versão 5.0, o servidor utilizará Threads para atender cada um dos clientes. Assim, podemos ter vários clientes ao mesmo tempo. \n",
    "\n",
    "- O servidor utiliza a classe ```ServerWork``` (subclasse de ```Thread```) para atender os clientes. \n",
    "- No método ```receberLista``` da classe Cliente, a lista pode ocupar mais de 2048 bytes. Portanto, lemos 2048 bytes na variável ```d``` e concatenamos essa string (binária) com ```dados``` (veja o código desse método). "
   ]
  },
  {
   "cell_type": "markdown",
   "metadata": {},
   "source": [
    "## Exercício\n",
    "\n",
    "Considere a seguinte funcionalidade: O cliente envia o código dum produto ao servidor. O servidor consulta o banco de dados e retorna as informações desse produto (caso ele exista):\n",
    " - Utilize a classe ```TinyDB``` (última aula) para implementar o banco de dados no servidor \n",
    " - Implemente os métodos necessários na classe cliente e servidor para implementar a nova funcionalidade. "
   ]
  },
  {
   "cell_type": "code",
   "execution_count": 1,
   "metadata": {},
   "outputs": [
    {
     "ename": "ModuleNotFoundError",
     "evalue": "No module named 'produto'",
     "output_type": "error",
     "traceback": [
      "\u001b[1;31m---------------------------------------------------------------------------\u001b[0m",
      "\u001b[1;31mModuleNotFoundError\u001b[0m                       Traceback (most recent call last)",
      "\u001b[1;32m<ipython-input-1-54ac07876111>\u001b[0m in \u001b[0;36m<module>\u001b[1;34m\u001b[0m\n\u001b[0;32m      1\u001b[0m \u001b[1;32mfrom\u001b[0m \u001b[0mtinydb\u001b[0m \u001b[1;32mimport\u001b[0m \u001b[0mTinyDB\u001b[0m\u001b[1;33m,\u001b[0m \u001b[0mQuery\u001b[0m\u001b[1;33m\u001b[0m\u001b[1;33m\u001b[0m\u001b[0m\n\u001b[0;32m      2\u001b[0m \u001b[1;32mimport\u001b[0m \u001b[0mjson\u001b[0m\u001b[1;33m\u001b[0m\u001b[1;33m\u001b[0m\u001b[0m\n\u001b[1;32m----> 3\u001b[1;33m \u001b[1;32mfrom\u001b[0m \u001b[0mv5\u001b[0m \u001b[1;32mimport\u001b[0m \u001b[0mcliente\u001b[0m\u001b[1;33m,\u001b[0m \u001b[0mserver\u001b[0m\u001b[1;33m\u001b[0m\u001b[1;33m\u001b[0m\u001b[0m\n\u001b[0m\u001b[0;32m      4\u001b[0m \u001b[1;33m\u001b[0m\u001b[0m\n\u001b[0;32m      5\u001b[0m \u001b[1;33m\u001b[0m\u001b[0m\n",
      "\u001b[1;32m~\\Downloads\\EngenhariaDeComputacaoUFRN\\UFRN 2019.2\\ProgramacaoOrientadaObjetos\\sockets\\v5\\cliente.py\u001b[0m in \u001b[0;36m<module>\u001b[1;34m\u001b[0m\n\u001b[0;32m      1\u001b[0m \u001b[1;32mimport\u001b[0m \u001b[0msocket\u001b[0m\u001b[1;33m\u001b[0m\u001b[1;33m\u001b[0m\u001b[0m\n\u001b[1;32m----> 2\u001b[1;33m \u001b[1;32mfrom\u001b[0m \u001b[0mproduto\u001b[0m \u001b[1;32mimport\u001b[0m \u001b[0mCor\u001b[0m\u001b[1;33m,\u001b[0m \u001b[0mProduto\u001b[0m\u001b[1;33m,\u001b[0m \u001b[0mMyEncoder\u001b[0m\u001b[1;33m\u001b[0m\u001b[1;33m\u001b[0m\u001b[0m\n\u001b[0m\u001b[0;32m      3\u001b[0m \u001b[1;32mimport\u001b[0m \u001b[0mjson\u001b[0m\u001b[1;33m\u001b[0m\u001b[1;33m\u001b[0m\u001b[0m\n\u001b[0;32m      4\u001b[0m \u001b[1;32mimport\u001b[0m \u001b[0mtime\u001b[0m\u001b[1;33m\u001b[0m\u001b[1;33m\u001b[0m\u001b[0m\n\u001b[0;32m      5\u001b[0m \u001b[1;32mimport\u001b[0m \u001b[0mrandom\u001b[0m\u001b[1;33m\u001b[0m\u001b[1;33m\u001b[0m\u001b[0m\n",
      "\u001b[1;31mModuleNotFoundError\u001b[0m: No module named 'produto'"
     ]
    }
   ],
   "source": [
    "from tinydb import TinyDB, Query\n",
    "import json\n",
    "from v5 import cliente, server\n",
    "\n",
    "\n"
   ]
  }
 ],
 "metadata": {
  "kernelspec": {
   "display_name": "Python 3",
   "language": "python",
   "name": "python3"
  },
  "language_info": {
   "codemirror_mode": {
    "name": "ipython",
    "version": 3
   },
   "file_extension": ".py",
   "mimetype": "text/x-python",
   "name": "python",
   "nbconvert_exporter": "python",
   "pygments_lexer": "ipython3",
   "version": "3.7.1"
  }
 },
 "nbformat": 4,
 "nbformat_minor": 4
}
