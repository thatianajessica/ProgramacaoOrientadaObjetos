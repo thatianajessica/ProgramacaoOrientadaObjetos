{
 "cells": [
  {
   "cell_type": "markdown",
   "metadata": {},
   "source": [
    "# Classes em Python"
   ]
  },
  {
   "cell_type": "markdown",
   "metadata": {},
   "source": [
    "Em toda classe devemos definir:\n",
    " * **Atributos**: características de cada objeto que devemos armazenar. \n",
    " * Um **construtor**: inicializando os atributos. \n",
    " * **Métodos** definindo o comportamento\n",
    " "
   ]
  },
  {
   "cell_type": "code",
   "execution_count": 2,
   "metadata": {},
   "outputs": [],
   "source": [
    "class Ponto:\n",
    "    '''Representação de uma coordenada no plano cartesiano'''\n",
    "    \n",
    "    def __init__(self, x, y):\n",
    "        '''Inicialização das coordenadas x e y'''\n",
    "        self.x = x\n",
    "        self.y = y\n",
    "        \n",
    "\n",
    "class Circulo:\n",
    "    '''Representação de um círculo'''\n",
    "    \n",
    "    def __init__(self, centro, raio):\n",
    "        '''Centro (x,y) e raio do círculo'''\n",
    "        self.centro = centro\n",
    "        self.raio = raio"
   ]
  },
  {
   "cell_type": "markdown",
   "metadata": {},
   "source": [
    "Em Python, todo método tem pelo menos um parâmetro:\n",
    " *  Este parâmetro, que é sempre o primeiro do método, é uma referência ao próprio objeto\n",
    " * Convenção **fortemente utilizada**: nomear o parâmetro de ```self```\n",
    " * Referência explícita, enquanto em outras linguagens a referência é implícita\n",
    " * Similar to ```this``` em Java ou C++\n",
    " \n",
    "## Construtores \n",
    "O método ```__init__```:\n",
    " * Método especial inicializador de objetos\n",
    " * Equivalente ao construtor de outras linguagens\n",
    " * Suporta vários parâmetros (o primeiro deveria ser ```self```)\n",
    " * Em Python, todos os membros de um objeto são declarados neste método\n",
    " * Chamado automaticamente quando um objeto da classe é instanciado\n",
    "\n",
    "## Criando Objetos\n",
    "Lembre, os objetos são instâncias de uma classe"
   ]
  },
  {
   "cell_type": "code",
   "execution_count": 5,
   "metadata": {},
   "outputs": [
    {
     "name": "stdout",
     "output_type": "stream",
     "text": [
      "3\n",
      "2\n",
      "4.5\n",
      "3\n",
      "2\n",
      "0\n",
      "8.5\n"
     ]
    }
   ],
   "source": [
    "# Criando um ponto\n",
    "p1 = Ponto(3,2)\n",
    "print(p1.x)\n",
    "print(p1.y)\n",
    "#Criando um círculo\n",
    "c1 = Circulo(p1, 4.5)\n",
    "print(c1.raio)\n",
    "print(c1.centro.x)\n",
    "print(c1.centro.y)\n",
    "c2 = Circulo(Ponto(0,0), 8.5)\n",
    "print(c2.centro.x)\n",
    "print(c2.raio)\n"
   ]
  },
  {
   "cell_type": "markdown",
   "metadata": {},
   "source": [
    "## Métodos \n",
    "Os métodos definem o comportamento dos objetos. \n",
    "\n",
    "Para as duas classes acima, poderíamos definir alguns métodos:\n",
    " * Para o ponto, calcular a distância com relação a outro ponto. \n",
    " * Mover o centro do círculo\n",
    " * Calcular a área do círculo\n",
    " \n",
    "Além disso, seria bom poder \"imprimir\" pontos fácilmente: ```print(p1)```. Para isso, definiremos o método ```___str__``` que transforma um objeto em uma string.  "
   ]
  },
  {
   "cell_type": "code",
   "execution_count": 24,
   "metadata": {},
   "outputs": [],
   "source": [
    "#Implementando alguns métodos\n",
    "import math\n",
    "\n",
    "class Ponto:\n",
    "    '''Representação de uma coordenada no plano cartesiano'''\n",
    "    \n",
    "    def __init__(self, x, y):\n",
    "        '''Inicialização das coordenadas x e y'''\n",
    "        self.x = x\n",
    "        self.y = y\n",
    "        \n",
    "    def distancia(self, outro):\n",
    "        '''Calcula a distância euclidiana entre self e outro'''\n",
    "        return math.sqrt(math.pow(self.x - outro.x,2) + math.pow(self.y - outro.y,2))\n",
    "    \n",
    "    def __str__(self):\n",
    "        '''Retorna uma representação de string de um Ponto'''\n",
    "        return '({0},{1})'.format(self.x, self.y)\n",
    "        \n",
    "\n",
    "class Circulo:\n",
    "    '''Representação de um círculo'''\n",
    "    \n",
    "    def __init__(self, centro, raio):\n",
    "        '''Centro (x,y) e raio do círculo'''\n",
    "        self.centro = centro\n",
    "        self.raio = raio\n",
    "    \n",
    "    def moverCentro(self, novoX, novoY):\n",
    "        '''Mover o centro do círculo'''\n",
    "        self.centro = Ponto(novoX, novoY)\n",
    "        \n",
    "    def area(self):\n",
    "        '''Calcular a área do círculo'''\n",
    "        return math.pi * pow(self.raio, 2)\n",
    "    \n",
    "    def __str__(self):\n",
    "        '''Representação do círculo como uma string'''\n",
    "        return 'Centro: {0}. Raio: {1}'.format(self.centro, self.raio)\n",
    "    "
   ]
  },
  {
   "cell_type": "markdown",
   "metadata": {},
   "source": [
    "Agora podemos criar pontos e círculos e utilizar os seus métodos:"
   ]
  },
  {
   "cell_type": "code",
   "execution_count": 25,
   "metadata": {},
   "outputs": [
    {
     "name": "stdout",
     "output_type": "stream",
     "text": [
      "Centro: (0,0). Raio: 5\n",
      "Centro: (3,4). Raio: 10\n",
      "5.0\n",
      "Centro: (4,10). Raio: 5\n",
      "Help on Circulo in module __main__ object:\n",
      "\n",
      "class Circulo(builtins.object)\n",
      " |  Circulo(centro, raio)\n",
      " |  \n",
      " |  Representação de um círculo\n",
      " |  \n",
      " |  Methods defined here:\n",
      " |  \n",
      " |  __init__(self, centro, raio)\n",
      " |      Centro (x,y) e raio do círculo\n",
      " |  \n",
      " |  __str__(self)\n",
      " |      Representação do círculo como uma string\n",
      " |  \n",
      " |  area(self)\n",
      " |      Calcular a área do círculo\n",
      " |  \n",
      " |  moverCentro(self, novoX, novoY)\n",
      " |      Mover o centro do círculo\n",
      " |  \n",
      " |  ----------------------------------------------------------------------\n",
      " |  Data descriptors defined here:\n",
      " |  \n",
      " |  __dict__\n",
      " |      dictionary for instance variables (if defined)\n",
      " |  \n",
      " |  __weakref__\n",
      " |      list of weak references to the object (if defined)\n",
      "\n"
     ]
    }
   ],
   "source": [
    "c1 = Circulo(Ponto(0,0), 5)\n",
    "c2 = Circulo(Ponto(3,4), 10)\n",
    "print(c1) #Conversão automática para str\n",
    "print(c2.__str__())\n",
    "\n",
    "#Utilizar o método distancia\n",
    "print(c1.centro.distancia(c2.centro))\n",
    "\n",
    "c1.moverCentro(4,10)\n",
    "print(c1)\n",
    "\n",
    "#Sempre devemos documentar!b\n",
    "help(c1)\n",
    "\n"
   ]
  },
  {
   "cell_type": "markdown",
   "metadata": {},
   "source": [
    "## Exercício 1: Números complexos"
   ]
  },
  {
   "cell_type": "markdown",
   "metadata": {},
   "source": [
    "Implemente a classe Complexo para representar um número complexo. Sua classe deve oferecer os seguintes métodos:\n",
    " * ```modulo```: que retorna o módulo do número complexo.\n",
    " * ```reset```: atribui 0.0 à parte real e à parte imaginaria. \n",
    " * ```incrementar```: incrementa em 1 a parte real do número complexo. \n",
    " * ```conjugado```: retorna o conjugado do número complexo (se ```Z= a+bi``` então ```conj(Z) = a - bi```). \n",
    " * ```__str__```: para converter o número complexo em uma string\n",
    " * ```soma```: dado um complexo C, retorna o número complexo C + self\n",
    "\n",
    "Escreva um bloco main para testar. \n",
    "\n",
    "---\n",
    "\n",
    "Adicione o seguinte método na sua classe:\n",
    "\n",
    "```\n",
    "def __add__(self, outro):\n",
    "    '''Implementa o operador +'''\n",
    "    return soma(self, outro)\n",
    "```\n",
    "\n",
    "e teste o seguinte código:\n",
    "\n",
    "```\n",
    "c1 = Complexo(3,2)\n",
    "c2 = Complexo(1,2)\n",
    "print (c1 + c2)\n",
    "\n",
    "```\n",
    "\n",
    "### Comparando objetos\n",
    "O que imprime o código a seguir? \n",
    "\n",
    "```\n",
    "c1 = Complexo(3,2)\n",
    "c2 = Complexo(3,2)\n",
    "c1 == c2\n",
    "```\n",
    "\n",
    "Adicione o seguinte método na sua classe e teste de novo:\n",
    "\n",
    "```\n",
    "def __eq__(self, outro):\n",
    "    '''Retorna verdadeiro se os dois números são iguais (parte real e parte imaginária)'''\n",
    "    if type(outro)== Complexo:\n",
    "        return self.real == outro.real and self.img == outro.img\n",
    "    else:\n",
    "        return False\n",
    "```\n"
   ]
  },
  {
   "cell_type": "code",
   "execution_count": 85,
   "metadata": {},
   "outputs": [
    {
     "name": "stdout",
     "output_type": "stream",
     "text": [
      "Modulo do numero complexo = 2.23606797749979\n",
      "Z = 2 + 2i\n",
      "Z = 2 - 2i\n",
      "Z = 4 + 5i\n",
      "Z = 4 + 5i\n"
     ]
    }
   ],
   "source": [
    "import math\n",
    "class Complexo:\n",
    "    '''Classe de numero complexo'''\n",
    "    def __init__(self, real, im):\n",
    "        self.real = real\n",
    "        self.im =  im\n",
    "        \n",
    "    def modulo(self):\n",
    "        return math.sqrt(math.pow(self.real,2) + math.pow(self.im,2))\n",
    "    \n",
    "    def reset(self):\n",
    "        self.real = 0\n",
    "        self.im = 0\n",
    "        \n",
    "    def incrementa(self):\n",
    "        self.real = self.real + 1\n",
    "        \n",
    "    def __str__(self):\n",
    "        '''Representação do círculo como uma string'''\n",
    "        if (self.im > 0):\n",
    "            return 'Z = {0} + {1}i'.format(self.real, self.im)\n",
    "        else:\n",
    "            return 'Z = {0} - {1}i'.format(self.real, self.im*-1)\n",
    "    \n",
    "    def conjugado(self):\n",
    "        conjugado_real = self.real\n",
    "        conjugado_im = self.im * -1\n",
    "        return Complexo(conjugado_real,conjugado_im) \n",
    "    \n",
    "    def soma(self, c):\n",
    "        resultado_real = self.real + c.real\n",
    "        resultado_im = self.im + c.im\n",
    "        return Complexo(resultado_real, resultado_im)\n",
    "    \n",
    "    def __add__(self, outro):\n",
    "        '''Implementa o operador +'''\n",
    "        return self.soma(outro)\n",
    "        \n",
    "    \n",
    "    \n",
    "\n",
    "c1 = Complexo(1,2)\n",
    "moduloc1 = c1.modulo()\n",
    "print('Modulo do numero complexo = {0}'.format(moduloc1))\n",
    "c1.incrementa()\n",
    "print(c1)\n",
    "c6 = c1.conjugado()\n",
    "print(c6)\n",
    "c2 = Complexo(2,3)\n",
    "c3 = c2.soma(c1)\n",
    "print(c3)\n",
    "print(c1 + c2)\n",
    "        \n",
    "    "
   ]
  },
  {
   "cell_type": "markdown",
   "metadata": {},
   "source": [
    "---"
   ]
  },
  {
   "cell_type": "markdown",
   "metadata": {},
   "source": [
    "## Exercício 2: Pessoas\n",
    "Defina a classe Pessoa com os seguintes atributos:\n",
    " * nome\n",
    " * cpf\n",
    " * data de nascimento \n",
    "\n",
    "Adicione os seguintes métodos à classe:\n",
    " * idade: que retorna a idade da pessoa\n",
    " * ```__str__```\n",
    " * aniv_mes: dado um inteiro ```1 <= n <= 12```, determina se o aniversário da pessoa cai no mês ```n```. \n",
    " * maisnovo: Dada outra pessoa P, retorna verdadeiro se P  é mais novo que o objeto que chamou o método.\n",
    " * se_apresentar: retorna a string \"Ola, meu nome é XXXXX e tenho XX anos de idade\"\n",
    " * cumprimentar: recebe como parâmetro outra pessoa e retorna a string \"Ola XXX, me nome é YYYY\"\n",
    "\n",
    " Segue um exemplo simples das bibliotecas de Python para manipular datas\n",
    " "
   ]
  },
  {
   "cell_type": "code",
   "execution_count": null,
   "metadata": {},
   "outputs": [],
   "source": [
    "from datetime import date, timedelta\n",
    "hoje = date.today()\n",
    "print(hoje)\n",
    "data = date(2005, 5,23)\n",
    "print(data)\n",
    "#type(hoje - data) --> datetime.timedelta\n",
    "diff = hoje - data\n",
    "print(diff)\n",
    "#Comparar datas\n",
    "print(hoje > data)\n",
    "\n",
    "#Classes mais especializadas para calcular diferenças de datas\n",
    "from dateutil.relativedelta import relativedelta\n",
    "idade = relativedelta(hoje, data)\n",
    "print(idade.years)\n",
    "\n",
    "\n"
   ]
  },
  {
   "cell_type": "code",
   "execution_count": null,
   "metadata": {},
   "outputs": [],
   "source": []
  }
 ],
 "metadata": {
  "kernelspec": {
   "display_name": "Python 3",
   "language": "python",
   "name": "python3"
  },
  "language_info": {
   "codemirror_mode": {
    "name": "ipython",
    "version": 3
   },
   "file_extension": ".py",
   "mimetype": "text/x-python",
   "name": "python",
   "nbconvert_exporter": "python",
   "pygments_lexer": "ipython3",
   "version": "3.7.4"
  }
 },
 "nbformat": 4,
 "nbformat_minor": 4
}
