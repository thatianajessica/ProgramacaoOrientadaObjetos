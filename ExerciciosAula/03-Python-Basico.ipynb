{
 "cells": [
  {
   "cell_type": "markdown",
   "metadata": {},
   "source": [
    "# Python Básico I\n",
    "\n",
    "## Objetivos \n",
    "\n",
    "O objetivo da aula é introduzir comandos básicos em Python:\n",
    " - Terminal interativo de comandos\n",
    " - Variáveis e tipos\n",
    " - Operadores e expressões\n",
    " - Entrada e saída\n",
    " Controle de fluxo (`if`, `while`, `for`)\n",
    "\n",
    "## A Linguagem de Programação Python\n",
    "\n",
    "- Linguagem criada no início dos anos 90 (Guido van Rossum)\n",
    "    - Versão 3: lançada em 2008\n",
    "- Utilizada em diferentes tipos de aplicações:\n",
    "    - Linguagem de script (auxiliar)\n",
    "    - Aplicações das grandes indústrias de software (Google, Dropbox, Intel, Netflix, etc.)\n",
    "    - Aplicações científicas (NASA, Robot Operating System, etc.)\n",
    "    - Bibliotecas de IA: Deep learning (PyTorch, TensorFlow)\n",
    "- Crescimento de uso considerável na década atual\n",
    "\n",
    "## A Linguagem de Programação Python\n",
    "\n",
    "Por que Python?\n",
    "\n",
    "- Simplicidade\n",
    "- Facilidade de aprendizado e de correção de erros\n",
    "- Código limpo\n",
    "- Código multiplataforma (Linux/Mac/Windows)\n",
    "- **Suporta o paradigma de programação orientada a objetos**\n",
    "\n",
    "## A Linguagem de Programação Python\n",
    "\n",
    "- É uma linguagem interpretada\n",
    "    - Código fonte:\n",
    "        - Terminação do arquivo: .py\n",
    "        - É interpretado pelo interpretador Python\n",
    "    - Após interpretado:\n",
    "        - Código fonte se torna uma representação\n",
    "          intermediária chamada *bytecode*\n",
    "        - Representação independente de hardware\n",
    "        - Terminação do arquivo: .pyc\n",
    "    - Último passo no processo de interpretação\n",
    "        - *Bytecode* é executado, instrução por instrução,\n",
    "          pela máquina virtual Python (PVM)\n",
    "    - Todo o processo é realizado sem intervenção do programador\n",
    "\n",
    "## Terminal de Comandos Interativo\n",
    "- A linguagem Python suporta um terminal de comandos interativo\n",
    "- Qualquer comando da linguagem pode ser executado\n",
    "    - Agiliza a programação\n",
    "    - Facilita a depuração de erros\n",
    "    - Ajuda nas funções/classes declaradas\n",
    "- **Importante**: confira se a versão do Python é a 3.X\n",
    "\n",
    "```\n",
    "$> python\n",
    "Python 3.7.3 (default, Mar 30 2019, 03:37:43) \n",
    "[Clang 10.0.0 (clang-1000.11.45.5)] on darwin\n",
    "Type \"help\", \"copyright\", \"credits\" or \"license\" for more information.\n",
    "```\n",
    "\n",
    "## Terminal Python como Calculadora ( e o Zen do Python)\n",
    "\n",
    "Segue alguns comandos simples que podem ser executados no terminal de comandos interativos \n"
   ]
  },
  {
   "cell_type": "code",
   "execution_count": null,
   "metadata": {},
   "outputs": [],
   "source": [
    "3 + 2"
   ]
  },
  {
   "cell_type": "code",
   "execution_count": null,
   "metadata": {},
   "outputs": [],
   "source": [
    "print(\"alo mundo!\")"
   ]
  },
  {
   "cell_type": "code",
   "execution_count": null,
   "metadata": {},
   "outputs": [],
   "source": [
    "import math\n",
    "math.sqrt(2)"
   ]
  },
  {
   "cell_type": "code",
   "execution_count": null,
   "metadata": {},
   "outputs": [],
   "source": [
    "# O Zen do Python\n",
    "import this"
   ]
  },
  {
   "cell_type": "markdown",
   "metadata": {},
   "source": [
    "---\n",
    "## Comandos Básicos em Python\n",
    "\n",
    "### Comentários\n",
    "Comentários de linha em Python: linhas que começam com ```#```\n",
    "\n",
    "Também, strings podem ser utilizadas para documentar código:"
   ]
  },
  {
   "cell_type": "code",
   "execution_count": null,
   "metadata": {},
   "outputs": [],
   "source": [
    "def soma(x, y):\n",
    "  '''Função para calcular a soma de x e y'''\n",
    "  return x + y\n",
    "\n",
    "soma(3,2)\n",
    "#Podemos ler a documentação da função!\n",
    "soma.__doc__"
   ]
  },
  {
   "cell_type": "code",
   "execution_count": null,
   "metadata": {},
   "outputs": [],
   "source": [
    "# Alternativamente, podemos utilizar a função help\n",
    "help(soma)"
   ]
  },
  {
   "cell_type": "markdown",
   "metadata": {},
   "source": [
    "Strings podem ser também utilizadas para comentários de várias linhas"
   ]
  },
  {
   "cell_type": "code",
   "execution_count": null,
   "metadata": {},
   "outputs": [],
   "source": [
    "def mult(x,y):\n",
    "    '''\n",
    "    Retorna x * y.\n",
    "    Nesta implementação vamos a utilizar\n",
    "    o operator * de Python e depois retornar o valor. \n",
    "    '''\n",
    "    return x * y\n",
    "\n",
    "print(mult(3,5))\n",
    "help(mult)\n",
    "    "
   ]
  },
  {
   "cell_type": "markdown",
   "metadata": {},
   "source": [
    "## Separador\n",
    "Note que não há necessidade de utilizar ```;```\n"
   ]
  },
  {
   "cell_type": "code",
   "execution_count": null,
   "metadata": {},
   "outputs": [],
   "source": [
    "x = 4 ; # Com ;\n",
    "y = 5   # some  ;\n",
    "print(x+y)"
   ]
  },
  {
   "cell_type": "markdown",
   "metadata": {},
   "source": [
    "--- \n",
    "\n",
    "## Variáveis e tipos\n",
    "- Declarar variável:\n",
    "    - Tipo da variável é determinado automaticamente pelo valor atribuído\n",
    "    - Usar operador de atribuição ```=```\n",
    "    - Ex.: ```a = 5```, a variável ```a``` é do tipo ```int```\n",
    "- Como saber o tipo de uma variável: ```type(variavel)```"
   ]
  },
  {
   "cell_type": "code",
   "execution_count": null,
   "metadata": {},
   "outputs": [],
   "source": [
    "i = 3\n",
    "type(i)"
   ]
  },
  {
   "cell_type": "code",
   "execution_count": null,
   "metadata": {},
   "outputs": [],
   "source": [
    "s = \"alo\"\n",
    "type(s)"
   ]
  },
  {
   "cell_type": "code",
   "execution_count": null,
   "metadata": {},
   "outputs": [],
   "source": [
    "f = 3.2\n",
    "type(f)"
   ]
  },
  {
   "cell_type": "code",
   "execution_count": null,
   "metadata": {},
   "outputs": [],
   "source": [
    "b = True\n",
    "type(b)"
   ]
  },
  {
   "cell_type": "markdown",
   "metadata": {},
   "source": [
    "### Tipos básicos em Python\n",
    "- Número inteiro: ```int```\n",
    "- Número real: ```float```\n",
    "- Booleano: ```bool``` (valor ```True``` ou ```False```)\n",
    "- String: ```str``` (tanto faz aspas simples ``` `ECT' ``` ou duplas ```\"ECT\"```)\n",
    "    - Também usado para caracteres"
   ]
  },
  {
   "cell_type": "code",
   "execution_count": null,
   "metadata": {},
   "outputs": [],
   "source": [
    "print('uma string')\n",
    "print(\"outra string\")\n",
    "print(\"mais uma string\")"
   ]
  },
  {
   "cell_type": "markdown",
   "metadata": {},
   "source": [
    "### Conversão explícita entre tipos\n",
    "É possível converter uma variável de um tipo em outro utilizando funções cujo nome é igual ao tipo para o qual a expressão deve ser convertida:\n",
    "\n",
    "- ```int(expr)```, ```float(expr)```, etc.\n",
    "- Similar ao operador de *typecast* em C++\n",
    "\n",
    "Alguns exemplos:"
   ]
  },
  {
   "cell_type": "code",
   "execution_count": null,
   "metadata": {},
   "outputs": [],
   "source": [
    "x = int('1234')\n",
    "y = float('5.1435')\n",
    "type(y)"
   ]
  },
  {
   "cell_type": "code",
   "execution_count": null,
   "metadata": {},
   "outputs": [],
   "source": [
    "i = 4\n",
    "s = str(i)\n",
    "type(s)"
   ]
  },
  {
   "cell_type": "markdown",
   "metadata": {},
   "source": [
    "### Conversão implícita\n",
    "Em Python, há também a conversão implícita:"
   ]
  },
  {
   "cell_type": "code",
   "execution_count": null,
   "metadata": {},
   "outputs": [],
   "source": [
    "a = 10\n",
    "b = 1.33\n",
    "c = a + b\n",
    "type(c)"
   ]
  },
  {
   "cell_type": "markdown",
   "metadata": {},
   "source": [
    "---\n",
    "## Comandos Básicos em Python\n",
    "### Operadores aritméticos\n",
    "- Adição: ```+```\n",
    "- Subtração: ```-```\n",
    "- Multiplicação: ```*```\n",
    "- Divisão: ```/```\n",
    "- Divisão inteira: ```//``` (divide e aplica a função ```floor(expr)```)\n",
    "- Resto da divisão: ```%```\n",
    "- Exponenciação: ```**```\n",
    "- Radiciação: função ```sqrt``` (módulo ```math```)\n",
    "- Atribuição junto com operação: ```+=```, ```-=```, etc.\n",
    "\n",
    "Alguns exemplos:"
   ]
  },
  {
   "cell_type": "code",
   "execution_count": null,
   "metadata": {},
   "outputs": [],
   "source": [
    "print(3 / 2) # Divisão\n",
    "print(3 // 2) # Divisão inteira\n",
    "print (6 % 2) #Resto da divisão\n",
    "print( 3 ** 2) #Exponenciação \n",
    "x = 5\n",
    "x += 3\n",
    "print(x)"
   ]
  },
  {
   "cell_type": "markdown",
   "metadata": {},
   "source": [
    "### Comparação com C++\n",
    "- Operadores para divisão e divisão inteira separados\n",
    "- Operador para potência\n",
    "- Não existe o operador de incremento/decremento (```++```/```--```)\n",
    "\n",
    "### Operadores relacionais\n",
    "- Igual: ```==```\n",
    "- Diferente: ```!=```\n",
    "- Maior: ```>```\n",
    "- Maior ou igual: ```>=```\n",
    "- Menor: ```<```\n",
    "- Menor ou igual: ```<=```\n",
    "\n",
    "O que imprimiria o código a seguir em C++ ?\n",
    "```\n",
    "cout<< (3 < 5 < 2 ) ;\n",
    "```\n"
   ]
  },
  {
   "cell_type": "code",
   "execution_count": null,
   "metadata": {},
   "outputs": [],
   "source": [
    "# Em Python... funciona!\n",
    "print ( 3 < 5 < 2 )"
   ]
  },
  {
   "cell_type": "markdown",
   "metadata": {},
   "source": [
    "### Operadores lógicos e valores lógicos\n",
    "- ```False```, ```0```, ```None```, ``` '' ``` (string vazia) e sequências vazias têm o valor lógico igual a falso\n",
    "- Qualquer outra coisa: valor lógico igual a verdadeiro\n",
    "- Negação: ```not```\n",
    "- Conjunção (e): ```and```\n",
    "- Disjunção (ou): ```or```"
   ]
  },
  {
   "cell_type": "code",
   "execution_count": null,
   "metadata": {},
   "outputs": [],
   "source": [
    "x = True and (False or True)\n",
    "print(x)\n",
    "print(not True)"
   ]
  },
  {
   "cell_type": "markdown",
   "metadata": {},
   "source": [
    "### Precedência de operadores\n",
    "1. Operadores aritméticos\n",
    "2. Operadores relacionais\n",
    "3. Operadores lógicos\n",
    "\n",
    "Na dúvida, utilizar parênteses ```()```"
   ]
  },
  {
   "cell_type": "code",
   "execution_count": null,
   "metadata": {},
   "outputs": [],
   "source": [
    "not  1 + 2  < 5"
   ]
  },
  {
   "cell_type": "code",
   "execution_count": null,
   "metadata": {},
   "outputs": [],
   "source": [
    "(not  1 + 2)  < 5"
   ]
  },
  {
   "cell_type": "code",
   "execution_count": null,
   "metadata": {},
   "outputs": [],
   "source": [
    "not  1 + (2  < 5)"
   ]
  },
  {
   "cell_type": "code",
   "execution_count": null,
   "metadata": {},
   "outputs": [],
   "source": [
    "(not  1) + 2   < 5"
   ]
  },
  {
   "cell_type": "markdown",
   "metadata": {},
   "source": [
    "--- \n",
    "\n",
    "## Impressão de dados na tela\n",
    "- Função ```print(mensagem)```\n",
    "- Alternativas:\n",
    "    - ```print(mensagem, expr)```\n",
    "    - Com saída formatada tipo ```printf``` do C: ```print(\"x eh %i, y eh %i\" % (x, y))```\n",
    "    - Com saída formatada tipo Python: ```print(\"x e {0}, y e {1}\".format(x, y))```\n",
    "    - Ainda mais simples ```print(f\"x e {x}, y e {y}\")```\n",
    "- Python também possui caracteres especiais como ``` `\\n' ``` e ``` `\\t' ```\n",
    "    - Comando ```print``` já possui o ``` `\\n' ```\n",
    "    - Caso não queria utilizá-lo, altere o parâmetro ```end```:\n",
    "      ```print(\"o resultado eh {0}\".format(x), end='')```"
   ]
  },
  {
   "cell_type": "code",
   "execution_count": null,
   "metadata": {},
   "outputs": [],
   "source": [
    "x = 3\n",
    "s = \"alo\"\n",
    "print(f'x = {x}, x + 4 = {x+4}. String = {s}')\n",
    "print('Alo', end='...')\n",
    "print('Mundo')"
   ]
  },
  {
   "cell_type": "markdown",
   "metadata": {},
   "source": [
    "## Leitura de dados do teclado\n",
    "- Função ```input(mensagem)```\n",
    "- A função retorna os dados lidos como uma única variável do tipo ```str```\n",
    "- Ou seja, para ler um número inteiro, por exemplo, é necessário utilizar a função de conversão\n",
    "    - Ex.: ```x = int(input(\"Insira um numero inteiro: \"))```"
   ]
  },
  {
   "cell_type": "code",
   "execution_count": null,
   "metadata": {},
   "outputs": [],
   "source": [
    "i = int(input(\"Número inteiro? \"))\n",
    "i += 1\n",
    "print(i)"
   ]
  },
  {
   "cell_type": "markdown",
   "metadata": {},
   "source": [
    "---\n",
    "## Executando Arquivos .py\n",
    "- O terminal interativo Python é útil, mas se torna inviável para códigos com tamanhos grandes\n",
    "- Portanto, vale a pena escrever o código dos programas em arquivos ```.py```\n",
    "- Para executar o programa:\n",
    "    - Usando o terminal, vá até a pasta do arquivo e digite ```python3 arquivo.py``` ou\n",
    "    - Utilize a opção de executar um arquivo na IDE de sua preferência\n",
    "    \n",
    "    "
   ]
  },
  {
   "cell_type": "markdown",
   "metadata": {},
   "source": [
    "---\n",
    "\n",
    "## Controle de Fluxo em Python\n",
    "### Código indentado é obrigatório\n",
    "- Em Python, não há ```{``` e ```}``` como em C++ para delimitar blocos\n",
    "- Blocos são delimitados pelos espaços em branco\n",
    "- Começar novo bloco: adicionar quatro espaços em branco\n",
    "- Finalizar bloco: remover quatro espaços em branco\n",
    "- Dica: configurar editor de texto para trocar tabulação por quatro espaços\n",
    "    - Sublime Text do laboratório está configurado assim\n",
    "    - Caso contrário: o interpretador irá dizer que o programa contém erros\n",
    "- Isto é necessário para os comandos de controle de fluxo, mostrados a seguir\n",
    "\n",
    "### Comando condicional ```if```\n",
    "- Sintaxe:\n",
    "\n",
    "```\n",
    "if condicao:\n",
    "        bloco de comandos\n",
    "```\n",
    "- ```else:``` é opcional\n",
    "\n",
    "### Comparação com C++\n",
    "- Não existe ```else if```, deve-se usar ```elif```\n",
    "- Não existe ```switch..case```, deve-se usar ```if... elif... else```\n"
   ]
  },
  {
   "cell_type": "code",
   "execution_count": null,
   "metadata": {},
   "outputs": [],
   "source": [
    "x = int(input(\"Insira um numero inteiro: \"))\n",
    "if x % 2 == 0:\n",
    "    print(f'{x} e par')\n",
    "else:\n",
    "    print(f'{x} e impar')"
   ]
  },
  {
   "cell_type": "code",
   "execution_count": null,
   "metadata": {},
   "outputs": [],
   "source": [
    "x = int(input(\"Insira um numero inteiro: \"))\n",
    "if x < 10:\n",
    "    print(\"menor 10\")\n",
    "elif x < 20:\n",
    "    print(\"entre 10 e 20\")\n",
    "else:\n",
    "    print(\"maior que 20\")\n",
    "    "
   ]
  },
  {
   "cell_type": "markdown",
   "metadata": {},
   "source": [
    "## Comando de repetição ```while```:\n",
    "\n",
    "- Funciona como em C++:\n",
    "    - Enquanto uma determinada condição for verdadeira, o laço é executado\n",
    "    - É necessário:\n",
    "        - Fazer com que a condição seja verdadeira pelo menos uma vez (antes do laço)\n",
    "        - Fazer com que a condição se torne falsa, em algum momento (dentro do laço)\n",
    "- Sintaxe:\n",
    "\n",
    "```\n",
    "while condicao:\n",
    "    bloco de comandos\n",
    "```\n",
    "\n",
    "### Comparação com C++\n",
    "- Não existe ```do..while```\n",
    "- O comando ```while``` suporta o ```else```, que é executado quando a condição é/se torna falsa\n",
    "    - Ou seja, não é executado caso o laço seja finalizado com ```break```\n"
   ]
  },
  {
   "cell_type": "code",
   "execution_count": null,
   "metadata": {},
   "outputs": [],
   "source": [
    "x = 0\n",
    "while x < 10:\n",
    "    print(x)\n",
    "    x += 1\n",
    "else:\n",
    "    print(\"Fim do laco\")"
   ]
  },
  {
   "cell_type": "markdown",
   "metadata": {},
   "source": [
    "# Comando de repetição ```for```:\n",
    "\n",
    "- Funciona de forma diferente do ```for``` tradicional em C++:\n",
    "    - Uma variável local deve iterar sobre todos os elementos de uma sequência\n",
    "    - Sequências serão vistas na próxima aula\n",
    "    - Por enquanto, devemos usar a função ```range```, para gerar uma sequência em um intervalo\n",
    "        - ```range(inicio, fim)```: gera sequência no intervalo\n",
    "          $[inicio,fim[$ com incremento igual a 1\n",
    "        - ```range(inicio, fim, inc)```: gera sequência no intervalo\n",
    "          $[inicio,fim[$ com incremento igual a ```incr```\n",
    "    - O intervalo gerado faz com que o ```for``` tenha o mesmo comportamento de C++\n",
    "\n",
    "- Sintaxe:\n",
    "\n",
    "```\n",
    "for var in sequencia:\n",
    "    bloco de comandos\n",
    "```\n",
    "\n",
    "### Comparação com C++\n",
    "- O comando ```for``` suporta o ```else```,\n",
    "  que é executado quando a condição é/se torna falsa\n",
    "    - Ou seja, não é executado caso o laço seja finalizado com ```break```\n"
   ]
  },
  {
   "cell_type": "code",
   "execution_count": null,
   "metadata": {},
   "outputs": [],
   "source": [
    "for i in range(0,10):\n",
    "   print(i)\n",
    "\n",
    "print('***')\n",
    "for i in range(10,0,-1):\n",
    "   print(i)\n",
    "\n",
    "print('***')   \n",
    "for i in range(0,10,2):\n",
    "   print(i)\n",
    " "
   ]
  },
  {
   "cell_type": "markdown",
   "metadata": {},
   "source": [
    "### Comandos ```break``` e ```continue```\n",
    "- Suportados em Python, assim como em C++\n",
    "- ```break```: encerra o laço (o ```else``` associado ao laço não é executado)\n",
    "- ```continue```: força a próxima iteração do laço\n",
    "\n",
    "## Importante\n",
    "\n",
    "- O interpretador somente irá reportar erro em uma linha sintaticamente\n",
    "  correta caso esta linha seja executada\n",
    "    - Por exemplo, caso a linha possua uma variável não declarada, o interpretador\n",
    "      somente irá reportar este tipo de erro se a linha for executada\n",
    "      \n",
    "---\n",
    "\n",
    "## Exercícios\n",
    "1. Implemente um programa que leia três números inteiros denotando os lados de um triangulo.\n",
    "   Três números formam um triângulo se cada um deles for menor do que a soma dos outros dois.\n",
    "   O programa deve informar se eles formam um triângulo e em caso positivo,\n",
    "   qual é o triângulo formado (equilátero, isósceles ou escaleno).\n",
    "2. Implemente um programa para o usuário adivinhar qual o valor de um\n",
    "   número inteiro armazenado.\n",
    "   O programa deve ler a entrada do usuário repetidas vezes e informar se o número\n",
    "   digitado foi menor, maior ou se o usuário conseguiu adivinhar o número secreto,\n",
    "   que é igual a 23.\n",
    "3. Implemente um programa que leia do usuário um total ```N``` de números reais\n",
    "   e imprima na tela qual foi o maior número digitado\n",
    "4. Implemente um programa que leia do usuário um número inteiro e informa na tela\n",
    "   quantos dos seus dígitos são pares\n"
   ]
  },
  {
   "cell_type": "code",
   "execution_count": 3,
   "metadata": {},
   "outputs": [
    {
     "name": "stdout",
     "output_type": "stream",
     "text": [
      "Tamanho do primeiro lado: 3\n",
      "Tamanho do segundo lado 10\n",
      "Tamanho do terceiro lado 2\n",
      "Nao eh um triangulo\n"
     ]
    }
   ],
   "source": [
    "lado1 = int(input(\"Tamanho do primeiro lado: \"))\n",
    "lado2 = int(input(\"Tamanho do segundo lado \"))\n",
    "lado3 = int(input(\"Tamanho do terceiro lado \"))\n",
    "\n",
    "if (lado1 < lado2+lado3) and (lado2 < lado1+lado3) and (lado3 < lado1+lado2):\n",
    "    if lado1 == lado2 == lado3:\n",
    "        print('Triangulo equilatero')\n",
    "    elif lado1 == lado2 or lado2 == lado3 or lado1 == lado3:\n",
    "        print('Triangulo isosceles')\n",
    "    elif lado1 != lado2 != lado3:\n",
    "        print('Triangulo escaleno')\n",
    "else:\n",
    "    print('Nao eh um triangulo')"
   ]
  },
  {
   "cell_type": "code",
   "execution_count": null,
   "metadata": {
    "scrolled": true
   },
   "outputs": [],
   "source": [
    "num = 23\n",
    "\n",
    "chute_num = -1\n",
    "\n",
    "while(chute_num != num):\n",
    "    chute_num = int(input(\"Chute um numero: \"))\n",
    "    if(chute_num > num):\n",
    "        print('Numero digitado é maior do que o numero. Chute novamente.')\n",
    "    elif (chute_num < num):\n",
    "        print('Numero digitado é menor do que o numero. Chute novamente.')\n",
    "    elif (chute_num == num):\n",
    "        print('Parabens, voce acertou!')"
   ]
  },
  {
   "cell_type": "markdown",
   "metadata": {},
   "source": []
  },
  {
   "cell_type": "code",
   "execution_count": 1,
   "metadata": {
    "scrolled": true
   },
   "outputs": [
    {
     "name": "stdout",
     "output_type": "stream",
     "text": [
      "Quantos numeros deseja digitar?3\n",
      "Digite um numero:7\n",
      "Digite um numero:6\n",
      "Digite um numero:5\n",
      "Maior numero digitado é: 7\n"
     ]
    }
   ],
   "source": [
    "n_numeros = int(input(\"Quantos numeros deseja digitar?\"))\n",
    "maior = 0\n",
    "cont = 0\n",
    "\n",
    "while (cont < n_numeros):\n",
    "    num = int(input(\"Digite um numero:\"))\n",
    "    if (num > maior):\n",
    "        maior = num\n",
    "    cont += 1\n",
    "    \n",
    "print('Maior numero digitado é: {0}'.format(maior))"
   ]
  },
  {
   "cell_type": "code",
   "execution_count": 10,
   "metadata": {},
   "outputs": [
    {
     "name": "stdout",
     "output_type": "stream",
     "text": [
      "Digite um numero:2230\n",
      "Quantidade de digitos pares é: 3\n"
     ]
    }
   ],
   "source": [
    "##import pdb\n",
    "\n",
    "num = int(input(\"Digite um numero:\"))\n",
    "digito = 0\n",
    "digitos_pares = 0\n",
    "\n",
    "while(num != 0):\n",
    "    ##pdb.set_trace()\n",
    "    digito = num % 10\n",
    "    if (digito % 2 == 0):\n",
    "        digitos_pares += 1\n",
    "    num = int(num/10)\n",
    "    \n",
    "    \n",
    "print('Quantidade de digitos pares é: {0}'.format(digitos_pares))\n",
    "        "
   ]
  },
  {
   "cell_type": "code",
   "execution_count": null,
   "metadata": {},
   "outputs": [],
   "source": []
  }
 ],
 "metadata": {
  "kernelspec": {
   "display_name": "Python 3",
   "language": "python",
   "name": "python3"
  },
  "language_info": {
   "codemirror_mode": {
    "name": "ipython",
    "version": 3
   },
   "file_extension": ".py",
   "mimetype": "text/x-python",
   "name": "python",
   "nbconvert_exporter": "python",
   "pygments_lexer": "ipython3",
   "version": "3.7.1"
  }
 },
 "nbformat": 4,
 "nbformat_minor": 4
}
